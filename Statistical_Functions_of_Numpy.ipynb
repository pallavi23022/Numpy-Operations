{
  "nbformat": 4,
  "nbformat_minor": 0,
  "metadata": {
    "colab": {
      "name": "Statistical Functions of Numpy.ipynb",
      "provenance": [],
      "collapsed_sections": []
    },
    "kernelspec": {
      "name": "python3",
      "display_name": "Python 3"
    }
  },
  "cells": [
    {
      "cell_type": "markdown",
      "metadata": {
        "id": "SWg5moDZBC9z",
        "colab_type": "text"
      },
      "source": [
        "Statistical Functions of Numpy"
      ]
    },
    {
      "cell_type": "code",
      "metadata": {
        "id": "m24zjbJUADFa",
        "colab_type": "code",
        "outputId": "e0ddb9b5-0b7a-4e93-99c2-a11722add1ee",
        "colab": {
          "base_uri": "https://localhost:8080/",
          "height": 235
        }
      },
      "source": [
        "#numpy.amin() and numpy.amax(),np.ptp()\n",
        "import numpy as np\n",
        "\n",
        "x=np.array([[1,2,3],[4,5,6],[7,8,9]])\n",
        "wts=np.array([[1,2,3],[4,5,6],[7,8,9] ])\n",
        "print(x)\n",
        "print(np.amax(x))\n",
        "print(np.amin(x))\n",
        "print(np.ptp(x))\n",
        "print(np.ptp(x,axis=0)) #column vise means across rows\n",
        "print(\"*********\")\n",
        "print(np.ptp(x,axis=1)) #row vise\n",
        "print(\"Percentile\",np.percentile(x,40))\n",
        "print(\"Median\",np.median(x, axis=1))\n",
        "print(\"average\",np.average(x,weights=wts,axis=1))\n",
        "print(\"average\",np.average(x,weights=wts,axis=0))\n"
      ],
      "execution_count": 0,
      "outputs": [
        {
          "output_type": "stream",
          "text": [
            "[[1 2 3]\n",
            " [4 5 6]\n",
            " [7 8 9]]\n",
            "9\n",
            "1\n",
            "8\n",
            "[6 6 6]\n",
            "*********\n",
            "[2 2 2]\n",
            "Percentile 4.2\n",
            "Median [2. 5. 8.]\n",
            "average [2.33333333 5.13333333 8.08333333]\n",
            "average [5.5 6.2 7. ]\n"
          ],
          "name": "stdout"
        }
      ]
    },
    {
      "cell_type": "markdown",
      "metadata": {
        "id": "Do3IDYW2GJPY",
        "colab_type": "text"
      },
      "source": [
        "Normal distribution mai mean median mode same hote hai \n",
        "\n",
        "mean median mai diff. aayega agr no. of observation even hai ya odd hai\n",
        "\n",
        "mean can be an imaginary no. will not exist in the population where as median will diffinitely exist in the population\n",
        "\n"
      ]
    },
    {
      "cell_type": "markdown",
      "metadata": {
        "id": "LEe3McmOJzSf",
        "colab_type": "text"
      },
      "source": [
        "Standard deviation : how far each point is far from mean \n",
        "\n",
        "underroot (summition(xi - x')2)/x  where x' is mean\n",
        "\n",
        "deviations ko sum krenge to 0 milega"
      ]
    },
    {
      "cell_type": "code",
      "metadata": {
        "id": "gDhbzf9aJ1UY",
        "colab_type": "code",
        "colab": {}
      },
      "source": [
        "print(\"Standard deviation: \", np.std(x) )"
      ],
      "execution_count": 0,
      "outputs": []
    },
    {
      "cell_type": "markdown",
      "metadata": {
        "id": "nHXhLNmjNZsc",
        "colab_type": "text"
      },
      "source": [
        "Variance"
      ]
    },
    {
      "cell_type": "code",
      "metadata": {
        "id": "qDCE7pIwNbRy",
        "colab_type": "code",
        "colab": {}
      },
      "source": [
        "#square of standard deviations\n",
        "print(\"Variance: \",)"
      ],
      "execution_count": 0,
      "outputs": []
    },
    {
      "cell_type": "markdown",
      "metadata": {
        "id": "71IfALIaNq_F",
        "colab_type": "text"
      },
      "source": [
        "change shape\n",
        "\n",
        "1. reshape: \n",
        "2. flat\n",
        "3. flatten\n",
        "4. revel\n",
        "5. ndarray.T: self.transpose\n",
        "6. rollaxis: roll sthe specified axis backwards\n",
        "7. swapaxis: interchanging the two axis\n",
        "8. broadcast: produces an object that mimics broadcasting\n",
        "9. broadcast_too: broadcasts an array to a new array\n",
        "10. expand_dims: expand the shape of an array\n",
        "11. squeeze: remove 1-d enteries from the shape of an array\n",
        "\n",
        "12. concatenate\n",
        "13. stack\n",
        "14. hstack\n",
        "15. vstack\n",
        "\n",
        "\n",
        "16. split \n",
        "17. hsplit\n",
        "18. vsplit\n",
        "\n",
        "19. resize:\n",
        "20. append:\n",
        "21. insert\n",
        "22. delete:\n",
        "23. unique:\n",
        "\n",
        "\n",
        "24. bitwise_and:\n",
        "25. bitwise_or:\n",
        "26. invert:\n",
        "27. left_shift:\n",
        "28. right_shift:"
      ]
    },
    {
      "cell_type": "markdown",
      "metadata": {
        "id": "e3AT1J_NO3ft",
        "colab_type": "text"
      },
      "source": [
        "String functions:\n",
        "\n",
        "\n",
        "1.   multiply()\n",
        "2.   add()\n",
        "3. center()\n",
        "4. capitalize()\n",
        "5. title()\n",
        "6. lower()\n",
        "7. upper()\n",
        "8. split()\n",
        "9. splitlines()\n",
        "10. replace()\n",
        "11. decode()\n",
        "12. encode()\n",
        "\n",
        "\n"
      ]
    },
    {
      "cell_type": "markdown",
      "metadata": {
        "id": "pd71jtKZRdd-",
        "colab_type": "text"
      },
      "source": [
        "under what conditions median and mode should be used \n",
        "try to see where clusters are forming \n",
        "bias:"
      ]
    },
    {
      "cell_type": "code",
      "metadata": {
        "id": "b1UWJ8vrN6Dt",
        "colab_type": "code",
        "outputId": "be3309f8-3f13-454b-bd5c-d568a0209f3b",
        "colab": {
          "base_uri": "https://localhost:8080/",
          "height": 319
        }
      },
      "source": [
        "# Airthmatic functions\n",
        "import numpy as np\n",
        "a=np.arange(9,dtype=np.float_).reshape(3,3)\n",
        "b=np.arange(10,19,dtype=np.float_).reshape(3,3)\n",
        "\n",
        "c=a+b\n",
        "d=a-b\n",
        "e=a*b\n",
        "f=a/b\n",
        "print(\"a: \",a)\n",
        "print(\"b: \",b)\n",
        "print(\"c: \",c)\n",
        "print(\"d: \",d)\n",
        "print(\"e: \",e)\n",
        "print(\"f: \",f)"
      ],
      "execution_count": 0,
      "outputs": [
        {
          "output_type": "stream",
          "text": [
            "a:  [[0. 1. 2.]\n",
            " [3. 4. 5.]\n",
            " [6. 7. 8.]]\n",
            "b:  [[10. 11. 12.]\n",
            " [13. 14. 15.]\n",
            " [16. 17. 18.]]\n",
            "c:  [[10. 12. 14.]\n",
            " [16. 18. 20.]\n",
            " [22. 24. 26.]]\n",
            "d:  [[-10. -10. -10.]\n",
            " [-10. -10. -10.]\n",
            " [-10. -10. -10.]]\n",
            "e:  [[  0.  11.  24.]\n",
            " [ 39.  56.  75.]\n",
            " [ 96. 119. 144.]]\n",
            "f:  [[0.         0.09090909 0.16666667]\n",
            " [0.23076923 0.28571429 0.33333333]\n",
            " [0.375      0.41176471 0.44444444]]\n"
          ],
          "name": "stdout"
        }
      ]
    },
    {
      "cell_type": "code",
      "metadata": {
        "id": "NHiK1VlhWqnM",
        "colab_type": "code",
        "outputId": "32f2598e-af59-469f-fcd4-9ba00ab19782",
        "colab": {
          "base_uri": "https://localhost:8080/",
          "height": 252
        }
      },
      "source": [
        "print(\"reciprocal: \",np.reciprocal(a))\n",
        "powr=np.array([[1,2,3],[4,5,6],[7,8,9]]).reshape(3,3)\n",
        "print(\"power: \",np.power(a,powr))\n",
        "print(\"mod: \",np.mod(a,powr))\n",
        "print(\"remainder: \",np.remainder(a,powr))"
      ],
      "execution_count": 0,
      "outputs": [
        {
          "output_type": "stream",
          "text": [
            "reciprocal:  [[       inf 1.         0.5       ]\n",
            " [0.33333333 0.25       0.2       ]\n",
            " [0.16666667 0.14285714 0.125     ]]\n",
            "power:  [[0.00000000e+00 1.00000000e+00 8.00000000e+00]\n",
            " [8.10000000e+01 1.02400000e+03 1.56250000e+04]\n",
            " [2.79936000e+05 5.76480100e+06 1.34217728e+08]]\n",
            "mod:  [[0. 1. 2.]\n",
            " [3. 4. 5.]\n",
            " [6. 7. 8.]]\n",
            "remainder:  [[0. 1. 2.]\n",
            " [3. 4. 5.]\n",
            " [6. 7. 8.]]\n"
          ],
          "name": "stdout"
        },
        {
          "output_type": "stream",
          "text": [
            "/usr/local/lib/python3.6/dist-packages/ipykernel_launcher.py:1: RuntimeWarning: divide by zero encountered in reciprocal\n",
            "  \"\"\"Entry point for launching an IPython kernel.\n"
          ],
          "name": "stderr"
        }
      ]
    },
    {
      "cell_type": "markdown",
      "metadata": {
        "id": "UWWkH9OqaN3o",
        "colab_type": "text"
      },
      "source": [
        "Copy, view and deep copy\n",
        "\n",
        "every thing in a python is objects.\n",
        "id() returns the universal identifier of python objects\n"
      ]
    },
    {
      "cell_type": "code",
      "metadata": {
        "id": "CVGrnY2NasDD",
        "colab_type": "code",
        "outputId": "8b668ddc-d580-4ab9-a6b0-edae00653a25",
        "colab": {
          "base_uri": "https://localhost:8080/",
          "height": 151
        }
      },
      "source": [
        "array=np.arange(4)\n",
        "print(\"id of initial array: \",id(array))\n",
        "barray=array\n",
        "print(array)\n",
        "print(barray)\n",
        "x=id(array)\n",
        "y=id(barray)\n",
        "print(\"x: \",x,\"y: \",y)\n",
        "barray.shape = (2,2)\n",
        "print(\"b: \",barray)\n",
        "print(\"a: \",array)\n"
      ],
      "execution_count": 0,
      "outputs": [
        {
          "output_type": "stream",
          "text": [
            "id of initial array:  139756747546672\n",
            "[0 1 2 3]\n",
            "[0 1 2 3]\n",
            "x:  139756747546672 y:  139756747546672\n",
            "b:  [[0 1]\n",
            " [2 3]]\n",
            "a:  [[0 1]\n",
            " [2 3]]\n"
          ],
          "name": "stdout"
        }
      ]
    }
  ]
}