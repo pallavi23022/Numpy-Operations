{
  "nbformat": 4,
  "nbformat_minor": 0,
  "metadata": {
    "colab": {
      "name": "Broadcasting and Linear Algebra.ipynb",
      "provenance": []
    },
    "kernelspec": {
      "name": "python3",
      "display_name": "Python 3"
    }
  },
  "cells": [
    {
      "cell_type": "markdown",
      "metadata": {
        "id": "HxcF--2KZz8g",
        "colab_type": "text"
      },
      "source": [
        "Broadcasting"
      ]
    },
    {
      "cell_type": "code",
      "metadata": {
        "id": "MYDGarBVZytK",
        "colab_type": "code",
        "outputId": "ad34bfc5-f9e3-4b39-be48-a3864c23c2b3",
        "colab": {
          "base_uri": "https://localhost:8080/",
          "height": 34
        }
      },
      "source": [
        "import numpy as np\n",
        "p=np.array([[1.0,2.0,3.0,4.0]])\n",
        "q=[[4]]\n",
        "print(p+q)\n"
      ],
      "execution_count": 0,
      "outputs": [
        {
          "output_type": "stream",
          "text": [
            "[[5. 6. 7. 8.]]\n"
          ],
          "name": "stdout"
        }
      ]
    },
    {
      "cell_type": "markdown",
      "metadata": {
        "id": "GBq_e4sycYjn",
        "colab_type": "text"
      },
      "source": [
        "linear algebra"
      ]
    },
    {
      "cell_type": "code",
      "metadata": {
        "id": "T8RQoas6caMi",
        "colab_type": "code",
        "outputId": "b520907f-eb2b-4ec4-e769-9da1ba1d6928",
        "colab": {
          "base_uri": "https://localhost:8080/",
          "height": 185
        }
      },
      "source": [
        "#,Dot product\n",
        "a=np.array([[1,2,3],[4,5,6]])\n",
        "b=np.array([[1,2],[3,4],[5,6]])\n",
        "print(a)\n",
        "print(b)\n",
        "print(\"dot: \",np.dot(a,b))\n",
        "print(\"vdot: \",np.vdot(a,b))\n",
        "#print(\"determinant: \",np.linalg.det(a))\n",
        "#4xo+3x1=18 and xo+3x1=9\n",
        "a=np.array([[4,3],[1,3]])\n",
        "b=np.array([18,9])\n",
        "x=np.linalg.solve(a,b)\n",
        "#to verify the ans. np.allclose( np.dot(a,x),b) #we use all close for precision allclose check how close the value are compare element by element\n",
        "print(\"x: \",x)\n",
        "print(\"allcose: \",np.allclose( np.dot(a,x),b))"
      ],
      "execution_count": 0,
      "outputs": [
        {
          "output_type": "stream",
          "text": [
            "[[1 2 3]\n",
            " [4 5 6]]\n",
            "[[1 2]\n",
            " [3 4]\n",
            " [5 6]]\n",
            "dot:  [[22 28]\n",
            " [49 64]]\n",
            "vdot:  91\n",
            "x:  [3. 2.]\n",
            "allcose:  True\n"
          ],
          "name": "stdout"
        }
      ]
    },
    {
      "cell_type": "markdown",
      "metadata": {
        "id": "F9NldKIAiS7b",
        "colab_type": "text"
      },
      "source": [
        "Matrix Library"
      ]
    },
    {
      "cell_type": "code",
      "metadata": {
        "id": "sbZStEQTiU1Z",
        "colab_type": "code",
        "outputId": "d3e2f35a-3864-4c66-af63-4e55cb6a7f90",
        "colab": {
          "base_uri": "https://localhost:8080/",
          "height": 151
        }
      },
      "source": [
        "print(np.inf)\n",
        "print(np.full((2,2),np.inf))\n",
        "print( np.zeros( (2,),dtype=[('x','i4'),('y','i4')]) )\n",
        "#full_like:\n",
        "#zeros_like\n",
        "#ones_like\n",
        "print(np.empty_like(a))\n",
        "print(np.empty([2,2]))"
      ],
      "execution_count": 0,
      "outputs": [
        {
          "output_type": "stream",
          "text": [
            "inf\n",
            "[[inf inf]\n",
            " [inf inf]]\n",
            "[(0, 0) (0, 0)]\n",
            "[[9218868437227405312 9218868437227405312]\n",
            " [9218868437227405312 9218868437227405312]]\n",
            "[[inf inf]\n",
            " [inf inf]]\n"
          ],
          "name": "stdout"
        }
      ]
    }
  ]
}