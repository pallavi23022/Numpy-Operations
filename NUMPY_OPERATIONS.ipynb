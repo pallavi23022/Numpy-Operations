{
  "nbformat": 4,
  "nbformat_minor": 0,
  "metadata": {
    "colab": {
      "name": "NUMPY OPERATIONS.ipynb",
      "provenance": [],
      "collapsed_sections": []
    },
    "kernelspec": {
      "name": "python3",
      "display_name": "Python 3"
    }
  },
  "cells": [
    {
      "cell_type": "code",
      "metadata": {
        "id": "M2Ih2koKFyhV",
        "colab_type": "code",
        "outputId": "87b3e514-a0a9-4cc2-9f1f-e94f7f9150f0",
        "colab": {
          "base_uri": "https://localhost:8080/",
          "height": 34
        }
      },
      "source": [
        "# to create complex numbers\n",
        "[complex(a,b) for a,b in zip([1,2,3],[2,3,4]) ]\n"
      ],
      "execution_count": 0,
      "outputs": [
        {
          "output_type": "execute_result",
          "data": {
            "text/plain": [
              "[(1+2j), (2+3j), (3+4j)]"
            ]
          },
          "metadata": {
            "tags": []
          },
          "execution_count": 1
        }
      ]
    },
    {
      "cell_type": "code",
      "metadata": {
        "id": "ou_U494QGj-O",
        "colab_type": "code",
        "outputId": "5a5a9e97-cbc0-43da-c170-1119501d3d75",
        "colab": {
          "base_uri": "https://localhost:8080/",
          "height": 34
        }
      },
      "source": [
        "import numpy as np\n",
        "a=np.array([[3,2,1],[1,2,3]])\n",
        "print(a.shape)"
      ],
      "execution_count": 0,
      "outputs": [
        {
          "output_type": "stream",
          "text": [
            "(2, 3)\n"
          ],
          "name": "stdout"
        }
      ]
    },
    {
      "cell_type": "code",
      "metadata": {
        "id": "-c48Q_1KG3Nr",
        "colab_type": "code",
        "outputId": "81d976de-650b-4c36-d290-795ccb8c7f0f",
        "colab": {
          "base_uri": "https://localhost:8080/",
          "height": 101
        }
      },
      "source": [
        "import numpy  as np\n",
        "a=np.array([[1,2,3],[4,5,6]])\n",
        "print(\"Initial state: \",a)\n",
        "a.shape=(3,2)\n",
        "print(a)"
      ],
      "execution_count": 0,
      "outputs": [
        {
          "output_type": "stream",
          "text": [
            "Initial state:  [[1 2 3]\n",
            " [4 5 6]]\n",
            "[[1 2]\n",
            " [3 4]\n",
            " [5 6]]\n"
          ],
          "name": "stdout"
        }
      ]
    },
    {
      "cell_type": "code",
      "metadata": {
        "id": "89M6lvX0HL77",
        "colab_type": "code",
        "outputId": "0295b58e-aad9-4c48-89b7-00dda90d620f",
        "colab": {
          "base_uri": "https://localhost:8080/",
          "height": 101
        }
      },
      "source": [
        "import numpy  as np\n",
        "a=np.array([[1,2,3],[4,5,6]])\n",
        "b=a.reshape(3,2)\n",
        "print(b)\n",
        "print(a)"
      ],
      "execution_count": 0,
      "outputs": [
        {
          "output_type": "stream",
          "text": [
            "[[1 2]\n",
            " [3 4]\n",
            " [5 6]]\n",
            "[[1 2 3]\n",
            " [4 5 6]]\n"
          ],
          "name": "stdout"
        }
      ]
    },
    {
      "cell_type": "code",
      "metadata": {
        "id": "zTmQXAr1Hl-V",
        "colab_type": "code",
        "colab": {}
      },
      "source": [
        "#Question--- diff. between shape and reshape"
      ],
      "execution_count": 0,
      "outputs": []
    },
    {
      "cell_type": "code",
      "metadata": {
        "id": "j7ds6EzXI4WX",
        "colab_type": "code",
        "outputId": "a853bc78-47c1-4324-ef0b-31e3c8090b3e",
        "colab": {
          "base_uri": "https://localhost:8080/",
          "height": 34
        }
      },
      "source": [
        "import numpy  as np\n",
        "a=np.array( [ [ [ [1,2,3] ,[4,5,6] ] ] ] ) #no. of square braces k saath dimension mai changes aayenge list k andr list k andr list to ye 4D bn gyi\n",
        "print(a.ndim)"
      ],
      "execution_count": 0,
      "outputs": [
        {
          "output_type": "stream",
          "text": [
            "4\n"
          ],
          "name": "stdout"
        }
      ]
    },
    {
      "cell_type": "code",
      "metadata": {
        "id": "RnsYapZkLtmq",
        "colab_type": "code",
        "outputId": "be48c0e3-d805-44cb-8546-a8659af407c8",
        "colab": {
          "base_uri": "https://localhost:8080/",
          "height": 34
        }
      },
      "source": [
        "import numpy  as np\n",
        "b=np.arange(24)\n",
        "print(b) # it return 1D array from 0 to 23"
      ],
      "execution_count": 0,
      "outputs": [
        {
          "output_type": "stream",
          "text": [
            "[ 0  1  2  3  4  5  6  7  8  9 10 11 12 13 14 15 16 17 18 19 20 21 22 23]\n"
          ],
          "name": "stdout"
        }
      ]
    },
    {
      "cell_type": "code",
      "metadata": {
        "id": "HnxCr7--MGsd",
        "colab_type": "code",
        "outputId": "cc2e2a99-d1b3-4cf6-cae4-aa4bd408344e",
        "colab": {
          "base_uri": "https://localhost:8080/",
          "height": 168
        }
      },
      "source": [
        "import numpy  as np\n",
        "a=np.arange(24)\n",
        "b=a.reshape(2,4,3) #  3d array 2 is no. of sublists and 4 is no. of rows in ech sublist and 3 is no. of columns in each sublists\n",
        "print(b)"
      ],
      "execution_count": 0,
      "outputs": [
        {
          "output_type": "stream",
          "text": [
            "[[[ 0  1  2]\n",
            "  [ 3  4  5]\n",
            "  [ 6  7  8]\n",
            "  [ 9 10 11]]\n",
            "\n",
            " [[12 13 14]\n",
            "  [15 16 17]\n",
            "  [18 19 20]\n",
            "  [21 22 23]]]\n"
          ],
          "name": "stdout"
        }
      ]
    },
    {
      "cell_type": "code",
      "metadata": {
        "id": "KxgZCUaJMutv",
        "colab_type": "code",
        "outputId": "93a0924a-fc6d-4b1b-f4c4-8d1c1f18c3ac",
        "colab": {
          "base_uri": "https://localhost:8080/",
          "height": 34
        }
      },
      "source": [
        "import numpy  as np\n",
        "x=np.array([1,2,3,4,5],dtype=np.int64)\n",
        "print(x.itemsize)"
      ],
      "execution_count": 0,
      "outputs": [
        {
          "output_type": "stream",
          "text": [
            "8\n"
          ],
          "name": "stdout"
        }
      ]
    },
    {
      "cell_type": "code",
      "metadata": {
        "id": "-YgjOCiYNXxy",
        "colab_type": "code",
        "outputId": "a74d2617-bb26-4f99-9fcb-e2ee1675cc3d",
        "colab": {
          "base_uri": "https://localhost:8080/",
          "height": 151
        }
      },
      "source": [
        "import numpy  as np\n",
        "x=np.array([1,2,3,4,5])\n",
        "print(x.flags)"
      ],
      "execution_count": 0,
      "outputs": [
        {
          "output_type": "stream",
          "text": [
            "  C_CONTIGUOUS : True\n",
            "  F_CONTIGUOUS : True\n",
            "  OWNDATA : True\n",
            "  WRITEABLE : True\n",
            "  ALIGNED : True\n",
            "  WRITEBACKIFCOPY : False\n",
            "  UPDATEIFCOPY : False\n",
            "\n"
          ],
          "name": "stdout"
        }
      ]
    },
    {
      "cell_type": "code",
      "metadata": {
        "id": "yLpQRKGeO0VA",
        "colab_type": "code",
        "outputId": "19efe9fd-1c04-410d-ec09-9aac67266fc8",
        "colab": {
          "base_uri": "https://localhost:8080/",
          "height": 34
        }
      },
      "source": [
        "x=[1,2,3]\n",
        "a=np.asarray(x)\n",
        "print(a.dtype)"
      ],
      "execution_count": 0,
      "outputs": [
        {
          "output_type": "stream",
          "text": [
            "int64\n"
          ],
          "name": "stdout"
        }
      ]
    },
    {
      "cell_type": "code",
      "metadata": {
        "id": "g8atBf9LPnxW",
        "colab_type": "code",
        "outputId": "90c9b145-23ca-486d-f08c-f5a5b1bd9ffa",
        "colab": {
          "base_uri": "https://localhost:8080/",
          "height": 101
        }
      },
      "source": [
        "x=[1,2,3]\n",
        "y=4,5,6\n",
        "a=np.asarray(x,dtype=np.float64)\n",
        "b=np.asarray(y)\n",
        "print(a,b)\n",
        "\n",
        "z=[(1,2,3),(4,5)]\n",
        "print(z)\n",
        "print(np.asarray(z))\n",
        "print(np.asarray(z)[1][1])\n",
        "print(type(a))"
      ],
      "execution_count": 0,
      "outputs": [
        {
          "output_type": "stream",
          "text": [
            "[1. 2. 3.] [4 5 6]\n",
            "[(1, 2, 3), (4, 5)]\n",
            "[(1, 2, 3) (4, 5)]\n",
            "5\n",
            "<class 'numpy.ndarray'>\n"
          ],
          "name": "stdout"
        }
      ]
    },
    {
      "cell_type": "code",
      "metadata": {
        "id": "R3J-eVG3TCPL",
        "colab_type": "code",
        "outputId": "233a470e-522e-43ca-9f12-e788ba0638ff",
        "colab": {
          "base_uri": "https://localhost:8080/",
          "height": 34
        }
      },
      "source": [
        "import numpy as np\n",
        "x=[1,2,3]\n",
        "a=np.arange(10,20,5,float) #.2 is a step\n",
        "print(a)"
      ],
      "execution_count": 0,
      "outputs": [
        {
          "output_type": "stream",
          "text": [
            "[10. 15.]\n"
          ],
          "name": "stdout"
        }
      ]
    },
    {
      "cell_type": "code",
      "metadata": {
        "id": "eamZ9VeMVjc3",
        "colab_type": "code",
        "outputId": "93663290-8023-4fbf-9e0f-cb6861c52f89",
        "colab": {
          "base_uri": "https://localhost:8080/",
          "height": 84
        }
      },
      "source": [
        "x=np.linspace(10,20,5,endpoint=False) #5 is number of steps\n",
        "print(x)\n",
        "print(type(x))\n",
        "y=np.linspace(10,21,5,retstep=True) #5 steps hai to 2.5 2.5 ka ek ek step hoga 5 times\n",
        "print(y)\n",
        "print(type(y))"
      ],
      "execution_count": 0,
      "outputs": [
        {
          "output_type": "stream",
          "text": [
            "[10. 12. 14. 16. 18.]\n",
            "<class 'numpy.ndarray'>\n",
            "(array([10.  , 12.75, 15.5 , 18.25, 21.  ]), 2.75)\n",
            "<class 'tuple'>\n"
          ],
          "name": "stdout"
        }
      ]
    },
    {
      "cell_type": "code",
      "metadata": {
        "id": "dQRTuCJxZPxN",
        "colab_type": "code",
        "outputId": "b5e3f347-25f8-4396-f9e4-b46fd5655ab0",
        "colab": {
          "base_uri": "https://localhost:8080/",
          "height": 67
        }
      },
      "source": [
        "a=np.logspace(1,10,num=10,base=10) #finding logs between 10 and 100\n",
        "print(a)\n",
        "b=np.logspace(1,10,num=8,base=2)\n",
        "print(b)"
      ],
      "execution_count": 0,
      "outputs": [
        {
          "output_type": "stream",
          "text": [
            "[1.e+01 1.e+02 1.e+03 1.e+04 1.e+05 1.e+06 1.e+07 1.e+08 1.e+09 1.e+10]\n",
            "[   2.            4.87605462   11.88795431   28.98315726   70.66172888\n",
            "  172.27522466  420.01170228 1024.        ]\n"
          ],
          "name": "stdout"
        }
      ]
    },
    {
      "cell_type": "code",
      "metadata": {
        "id": "GPuPPp4pZihC",
        "colab_type": "code",
        "colab": {}
      },
      "source": [
        "##20 jan 2020\n"
      ],
      "execution_count": 0,
      "outputs": []
    },
    {
      "cell_type": "code",
      "metadata": {
        "id": "NcJ-O1EB7Xm-",
        "colab_type": "code",
        "outputId": "2146141d-a8e2-4ebb-d71e-da7f18177106",
        "colab": {
          "base_uri": "https://localhost:8080/",
          "height": 101
        }
      },
      "source": [
        "import numpy as np\n",
        "a=np.arange(10)\n",
        "print(a)\n",
        "s=slice(2,7,2)\n",
        "print(s)\n",
        "b=a[2::2]\n",
        "c=a[5]\n",
        "print(a[2:5])\n",
        "print(c)\n",
        "print(a[s],b)\n"
      ],
      "execution_count": 0,
      "outputs": [
        {
          "output_type": "stream",
          "text": [
            "[0 1 2 3 4 5 6 7 8 9]\n",
            "slice(2, 7, 2)\n",
            "[2 3 4]\n",
            "5\n",
            "[2 4 6] [2 4 6 8]\n"
          ],
          "name": "stdout"
        }
      ]
    },
    {
      "cell_type": "code",
      "metadata": {
        "id": "K9bGHNty9X8s",
        "colab_type": "code",
        "outputId": "dfde3cb5-0f8b-4f4f-b34d-bd02797614d1",
        "colab": {
          "base_uri": "https://localhost:8080/",
          "height": 336
        }
      },
      "source": [
        "a=np.array([[1,2,3],[4,5,6],[7,8,9]])\n",
        "print(a)\n",
        "print(\"*********\")\n",
        "print(a[1:])\n",
        "print(\"*********\")\n",
        "print(a[:1])\n",
        "print(\"*********\")\n",
        "print(a[:2])\n",
        "print(\"*********\")\n",
        "print(a[0,0])\n",
        "print(\"*********\")\n",
        "print(a[2,2])\n",
        "print(\"*********\")\n",
        "print(a[0:,1:])"
      ],
      "execution_count": 0,
      "outputs": [
        {
          "output_type": "stream",
          "text": [
            "[[1 2 3]\n",
            " [4 5 6]\n",
            " [7 8 9]]\n",
            "*********\n",
            "[[4 5 6]\n",
            " [7 8 9]]\n",
            "*********\n",
            "[[1 2 3]]\n",
            "*********\n",
            "[[1 2 3]\n",
            " [4 5 6]]\n",
            "*********\n",
            "1\n",
            "*********\n",
            "9\n",
            "*********\n",
            "[[2 3]\n",
            " [5 6]\n",
            " [8 9]]\n"
          ],
          "name": "stdout"
        }
      ]
    },
    {
      "cell_type": "code",
      "metadata": {
        "id": "FMBdsqoY_o5M",
        "colab_type": "code",
        "outputId": "42331d0b-963c-461e-cbef-d615c4d183e7",
        "colab": {
          "base_uri": "https://localhost:8080/",
          "height": 185
        }
      },
      "source": [
        "# ELLIPSIS :- when used at the row position it will return an ndarray\n",
        "\n",
        "a=np.array([[1,2,3],[4,5,6],[7,8,9]])\n",
        "print(a)\n",
        "print(\"*******************\")\n",
        "print(a[...,1:]) #no rows specified, column 2 understood by default\n",
        "print(\"**********\")\n",
        "print(a[1:,...])"
      ],
      "execution_count": 0,
      "outputs": [
        {
          "output_type": "stream",
          "text": [
            "[[1 2 3]\n",
            " [4 5 6]\n",
            " [7 8 9]]\n",
            "*******************\n",
            "[[2 3]\n",
            " [5 6]\n",
            " [8 9]]\n",
            "**********\n",
            "[[4 5 6]\n",
            " [7 8 9]]\n"
          ],
          "name": "stdout"
        }
      ]
    },
    {
      "cell_type": "code",
      "metadata": {
        "id": "zRdh590yCEdf",
        "colab_type": "code",
        "outputId": "67bcc085-1375-450c-fa94-90a851bf6719",
        "colab": {
          "base_uri": "https://localhost:8080/",
          "height": 134
        }
      },
      "source": [
        "# integer indexing\n",
        "x=np.array([[1,2],[4,5],[7,8]])\n",
        "y=x[[0,1,2],[0,1,0]] #0th ka 0th element, 1st ka 1st element, 2nd ka 0th element\n",
        "z=x[[2,0,1],[1,1,1]] #2nd ka 1st element, 0th ka 1st element, 1st ka 1st element\n",
        "print(x)\n",
        "print(\"*****\")\n",
        "print(y)\n",
        "print(\"*****\")\n",
        "print(z)"
      ],
      "execution_count": 0,
      "outputs": [
        {
          "output_type": "stream",
          "text": [
            "[[1 2]\n",
            " [4 5]\n",
            " [7 8]]\n",
            "*****\n",
            "[1 5 7]\n",
            "*****\n",
            "[8 2 5]\n"
          ],
          "name": "stdout"
        }
      ]
    },
    {
      "cell_type": "code",
      "metadata": {
        "id": "rDBMUxAqE8t5",
        "colab_type": "code",
        "outputId": "5c67aa92-4494-41bd-fb2e-e8369923ca3d",
        "colab": {
          "base_uri": "https://localhost:8080/",
          "height": 118
        }
      },
      "source": [
        "#Field indexing\n",
        "x=np.array([('REx',9,81.0),('Fido',3,27.0)], dtype=[('name','U5'),('age','i4'),('weight','f4')]) #U1 means only 1 character U2 means 2 characters U means 0 characters\n",
        "print(x[0])\n",
        "print(x['name'])\n",
        "print(x['age']>5)\n",
        "print(type(x['age']))\n",
        "y=x['age']\n",
        "print(y)\n",
        "print(x)"
      ],
      "execution_count": 0,
      "outputs": [
        {
          "output_type": "stream",
          "text": [
            "('REx', 9, 81.)\n",
            "['REx' 'Fido']\n",
            "[ True False]\n",
            "<class 'numpy.ndarray'>\n",
            "[9 3]\n",
            "[('REx', 9, 81.) ('Fido', 3, 27.)]\n"
          ],
          "name": "stdout"
        }
      ]
    },
    {
      "cell_type": "code",
      "metadata": {
        "id": "VfSFYG_8J5X1",
        "colab_type": "code",
        "outputId": "2375064e-44c1-4e95-bb05-56fbeb799bc1",
        "colab": {
          "base_uri": "https://localhost:8080/",
          "height": 118
        }
      },
      "source": [
        "#example of integer indexing\n",
        "import numpy as np\n",
        "x=np.array([[0,1,2],[3,4,5],[6,7,8],[9,10,11]])\n",
        "print(x)\n",
        "print(x[[0,1],[1,2]])\n",
        "print(x[[0,2],[1,2]])\n",
        "\n",
        "#print(x[[3,0],[3,2]]) ### JHOL\n",
        "\n"
      ],
      "execution_count": 0,
      "outputs": [
        {
          "output_type": "stream",
          "text": [
            "[[ 0  1  2]\n",
            " [ 3  4  5]\n",
            " [ 6  7  8]\n",
            " [ 9 10 11]]\n",
            "[1 5]\n",
            "[1 8]\n"
          ],
          "name": "stdout"
        }
      ]
    },
    {
      "cell_type": "code",
      "metadata": {
        "id": "-ttKnWw7T21L",
        "colab_type": "code",
        "outputId": "60dbd603-2cca-493e-eb99-ce6f1c55ae00",
        "colab": {
          "base_uri": "https://localhost:8080/",
          "height": 67
        }
      },
      "source": [
        "y=x[1:4,[1,2]]\n",
        "print(y)"
      ],
      "execution_count": 0,
      "outputs": [
        {
          "output_type": "stream",
          "text": [
            "[[ 4  5]\n",
            " [ 7  8]\n",
            " [10 11]]\n"
          ],
          "name": "stdout"
        }
      ]
    }
  ]
}